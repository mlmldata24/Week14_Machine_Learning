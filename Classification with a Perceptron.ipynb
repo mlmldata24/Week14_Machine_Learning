{
 "cells": [
  {
   "cell_type": "markdown",
   "id": "aa78574b-d9db-4449-b800-0aa9b1460993",
   "metadata": {},
   "source": [
    "# Classification with a Perceptron\n",
    "In this notebook, we will investigate a classification problem using a Perceptron.\n",
    "\n",
    "### Import modules\n",
    "Begin by importing the modules to be used in this notebook"
   ]
  },
  {
   "cell_type": "code",
   "execution_count": null,
   "id": "8dc5b778-fdba-4ce4-b322-aa326262b7c8",
   "metadata": {},
   "outputs": [],
   "source": [
    "import numpy as np\n",
    "import matplotlib.pyplot as plt\n",
    "from matplotlib.patches import Polygon\n",
    "from ipywidgets import interact, interactive, fixed, interact_manual\n",
    "import ipywidgets as widgets"
   ]
  },
  {
   "cell_type": "markdown",
   "id": "90628864-f7fb-42f5-bf90-a66254d0f7e9",
   "metadata": {},
   "source": [
    "### A Classification Problem\n",
    "Consider a dataset with classified labels. In other words, the data has a set of parameters in $x_{data}$ and $y_{data}$ with a classification $c_{data}$ corresponding to each point. For example, consider you had an upward-looking camera deployed in the shallow waters of Manresa State Beach. From images captured by the camera, you can measure the length of sharks passing by ($x_{data}$, in feet) and the distance between the tips of the pectoral fins ($y_{data}$, in feet). Then, the classifications may pertains to juvenile sharks (class 1) or mature sharks (class 2).\n",
    "\n",
    "One such dataset is as follows:"
   ]
  },
  {
   "cell_type": "code",
   "execution_count": null,
   "id": "d44d2134-a537-4c17-9ce3-4ca1cf9e608e",
   "metadata": {},
   "outputs": [],
   "source": [
    "data = np.genfromtxt('classification_scatter.csv',delimiter=',')\n",
    "x_data = data[:,0]\n",
    "y_data = data[:,1]\n",
    "classifications_data = data[:,2]"
   ]
  },
  {
   "cell_type": "markdown",
   "id": "232d1163-bba9-4b45-9b20-8510ad581d76",
   "metadata": {},
   "source": [
    "Since we're going to be plotting the same dataset a few times, let's define a common set of bounds for our axes:"
   ]
  },
  {
   "cell_type": "code",
   "execution_count": null,
   "id": "16fd5699-87d4-4759-8ff9-5013b014c375",
   "metadata": {},
   "outputs": [],
   "source": [
    "# define some bounds to be used in the plots below\n",
    "min_x = -1\n",
    "max_x = 12\n",
    "min_y = -1\n",
    "max_y = 9"
   ]
  },
  {
   "cell_type": "markdown",
   "id": "b7dbd768-d4dc-4528-9103-c42e3e267289",
   "metadata": {},
   "source": [
    "Next, let's plot the data:"
   ]
  },
  {
   "cell_type": "code",
   "execution_count": null,
   "id": "01dcd8bb-ad5a-4214-b464-ce30046b5e6a",
   "metadata": {},
   "outputs": [],
   "source": [
    "plt.plot(x_data[classifications_data==1],y_data[classifications_data==1],'b.',label='Class 1 (Juvenile)')\n",
    "plt.plot(x_data[classifications_data==2],y_data[classifications_data==2],'g.',label='Class 2 (Mature)')\n",
    "plt.gca().set_xlim([min_x,max_x])\n",
    "plt.gca().set_ylim([min_y,max_y])\n",
    "plt.ylabel('parameter 1 (shark length, ft)')\n",
    "plt.xlabel('parameter 2 (pectoral fin width, ft)')\n",
    "plt.legend(loc=2)\n",
    "plt.show()"
   ]
  },
  {
   "cell_type": "markdown",
   "id": "4e745792-4506-4b67-866d-4695cdd1ad1a",
   "metadata": {},
   "source": [
    "In this example, we want to find a line that separates these two classes. We could start with an initial guess as follows"
   ]
  },
  {
   "cell_type": "code",
   "execution_count": null,
   "id": "04c437ff-b95a-49a3-97e6-c2c4454e0c18",
   "metadata": {},
   "outputs": [],
   "source": [
    "slope = 3.0\n",
    "intercept = -10.0"
   ]
  },
  {
   "cell_type": "markdown",
   "id": "073bb7f2-3f69-4cc5-91ac-2c46216c7a0e",
   "metadata": {},
   "source": [
    "Plotting the classification \"model\" (i.e. the dividing line) would give the following:"
   ]
  },
  {
   "cell_type": "code",
   "execution_count": null,
   "id": "781e29df-1d36-447f-936f-1aee79e7ef1c",
   "metadata": {},
   "outputs": [],
   "source": [
    "plt.plot(x_data[classifications_data==1],y_data[classifications_data==1],'b.',label='Class 1')\n",
    "plt.plot(x_data[classifications_data==2],y_data[classifications_data==2],'g.',label='Class 2')\n",
    "plot_x = np.linspace(min_x,max_x,100)\n",
    "plt.plot(plot_x, intercept + slope*plot_x, 'k-')\n",
    "plt.gca().set_xlim([-1,12])\n",
    "plt.gca().set_ylim([-1,9])\n",
    "plt.legend(loc=2)\n",
    "plt.show()"
   ]
  },
  {
   "cell_type": "markdown",
   "id": "b57e91bd-8264-4531-a2d0-004a0f49e7ad",
   "metadata": {},
   "source": [
    "How many classifications did we get right with this model? We can compute it as follows: if a data point is above our line, we count it as 2, if not, we count it as 1. With a look to what's coming ahead, we'll call this an activation function"
   ]
  },
  {
   "cell_type": "code",
   "execution_count": null,
   "id": "8413e510-aa2d-47b7-a12a-c979ae793140",
   "metadata": {},
   "outputs": [],
   "source": [
    "# define the activation_function here\n"
   ]
  },
  {
   "cell_type": "markdown",
   "id": "c9baac5e-7c41-47ab-a4d0-3a0bc3f976ce",
   "metadata": {},
   "source": [
    "Give this activation, we can compare side by side how our model is working:"
   ]
  },
  {
   "cell_type": "code",
   "execution_count": null,
   "id": "00f375de-7977-4aed-abed-20279b53bedc",
   "metadata": {},
   "outputs": [],
   "source": [
    "classifications_model = activation_function(intercept, slope, x_data, y_data)\n",
    "\n",
    "plt.figure(figsize=(11,4))\n",
    "\n",
    "plt.subplot(1,2,1)\n",
    "plt.plot(x_data[classifications_data==1],y_data[classifications_data==1],'b.',label='Class 1')\n",
    "plt.plot(x_data[classifications_data==2],y_data[classifications_data==2],'g.',label='Class 2')\n",
    "plot_x = np.linspace(min_x,max_x,100)\n",
    "plt.plot(plot_x, intercept + slope*plot_x, 'k-')\n",
    "plt.gca().set_xlim([-1,12])\n",
    "plt.gca().set_ylim([-1,9])\n",
    "plt.legend(loc=2)\n",
    "plt.title('Data Classifications')\n",
    "\n",
    "plt.subplot(1,2,2)\n",
    "plt.plot(x_data[classifications_model==1],y_data[classifications_model==1],'b.',label='Class 1')\n",
    "plt.plot(x_data[classifications_model==2],y_data[classifications_model==2],'g.',label='Class 2')\n",
    "plot_x = np.linspace(min_x,max_x,100)\n",
    "plt.plot(plot_x, intercept + slope*plot_x, 'k-')\n",
    "plt.gca().set_xlim([-1,12])\n",
    "plt.gca().set_ylim([-1,9])\n",
    "plt.legend(loc=2)\n",
    "plt.title('Modeled Classifications')\n",
    "\n",
    "plt.show()"
   ]
  },
  {
   "cell_type": "markdown",
   "id": "4f25fef7-2961-49cd-8e53-1765fb37bb57",
   "metadata": {},
   "source": [
    "Given this model guess, we could compute the cost function depending on how many classifications we got wrong"
   ]
  },
  {
   "cell_type": "code",
   "execution_count": null,
   "id": "6fa329dc-c056-4d58-b182-95940356a8e6",
   "metadata": {},
   "outputs": [],
   "source": [
    "# define the cost function as the number of correctly classified points\n"
   ]
  },
  {
   "cell_type": "code",
   "execution_count": null,
   "id": "c4dddd8f-aedd-4ed0-a39c-2e11e8b5dd26",
   "metadata": {},
   "outputs": [],
   "source": [
    "print('Cost: '+str(cost_function(classifications_data, classifications_model))+' incorrect classifications')"
   ]
  },
  {
   "cell_type": "markdown",
   "id": "a750dcca-16ff-47a6-a821-adee2667f1ed",
   "metadata": {},
   "source": [
    "Further, we can compute the error space"
   ]
  },
  {
   "cell_type": "code",
   "execution_count": null,
   "id": "63fc4d47-9ea1-4709-8187-912ec13d6d62",
   "metadata": {},
   "outputs": [],
   "source": [
    "intercept_space = np.linspace(-50,50,100)\n",
    "slope_space = np.linspace(-4,4,100)\n",
    "I, S = np.meshgrid(intercept_space, slope_space)\n",
    "Error = np.zeros((100,100))\n",
    "\n",
    "# fill in the error matrix\n",
    "for row in range(np.shape(I)[0]):\n",
    "    for col in range(np.shape(S)[1]):\n",
    "        classifications_model = activation_function(I[row,col], S[row,col], x_data, y_data)\n",
    "        Error[row,col] = cost_function(classifications_data, classifications_model)"
   ]
  },
  {
   "cell_type": "markdown",
   "id": "d0c9803a-d521-4aeb-9488-47a15cd3ce0a",
   "metadata": {},
   "source": [
    "And, we can make a plot of the error space"
   ]
  },
  {
   "cell_type": "code",
   "execution_count": null,
   "id": "ffeb5446-1059-4cab-8b46-a6e63d35a3f1",
   "metadata": {},
   "outputs": [],
   "source": [
    "C = plt.pcolormesh(intercept_space,slope_space, Error+1)\n",
    "plt.contour(intercept_space,slope_space, Error,colors='white',linewidths=0.7)\n",
    "plt.plot(intercept, slope, 'wo')\n",
    "plt.colorbar(C, label='cost (# of incorrect classifications)')\n",
    "plt.title('Error space')\n",
    "plt.ylabel('slope ($m$)')\n",
    "plt.xlabel('intercept ($b$)')\n",
    "plt.show()"
   ]
  },
  {
   "cell_type": "markdown",
   "id": "a4f98940-8fee-415a-ae97-706964c1807e",
   "metadata": {},
   "source": [
    "Depending on the initial guess for the intercept and slope, we probably don't have a very good model. The idea here is to move through the error space to determine how we should update the parameters and get a better classification model.\n",
    "\n",
    "Similar to gradient decent in optimization, we can define a gradient:"
   ]
  },
  {
   "cell_type": "code",
   "execution_count": null,
   "id": "a91eeb9b-d0d6-49ab-83c1-09767a063d7f",
   "metadata": {},
   "outputs": [],
   "source": [
    "# define the cost_function_gradient here\n"
   ]
  },
  {
   "cell_type": "markdown",
   "id": "7bbdffa3-42d8-4acf-85e6-3865e4330035",
   "metadata": {},
   "source": [
    "This gradient can be used to then improve upon an initial guess and improve the model. First, define a learning rate and first guess."
   ]
  },
  {
   "cell_type": "code",
   "execution_count": null,
   "id": "88ffa5ec-ba4c-4c3d-a688-5c49e1a6664f",
   "metadata": {},
   "outputs": [],
   "source": [
    "learning_rate = 0.002\n",
    "intercept = 1.0 # starting intercept guess\n",
    "slope = 1.0 # starting slope guess\n",
    "weights = np.array([intercept, slope])"
   ]
  },
  {
   "cell_type": "markdown",
   "id": "0d79f5d6-6f4b-4f37-8a22-08af5b77e34d",
   "metadata": {},
   "source": [
    "One iteration can be computed by computing the classifications, determining the gradient, and updating the weights based on the gradient:"
   ]
  },
  {
   "cell_type": "code",
   "execution_count": null,
   "id": "d12abe34-3568-4159-8563-411d35711ccb",
   "metadata": {},
   "outputs": [],
   "source": [
    "# compute the modeled values\n",
    "classifications_model = activation_function(intercept, slope, x_data, y_data)\n",
    "weight_gradient = cost_function_gradient(x_data, y_data, classifications_data, classifications_model)\n",
    "weights -= learning_rate*weight_gradient\n",
    "print(weights)"
   ]
  },
  {
   "cell_type": "markdown",
   "id": "371de9f1-e62e-4320-a2a8-1aab0f37210c",
   "metadata": {},
   "source": [
    "We can build a slider to examine how this would look over many iterations"
   ]
  },
  {
   "cell_type": "code",
   "execution_count": null,
   "id": "b3d35562-1643-4fe1-a07c-cbf78db8f3e4",
   "metadata": {},
   "outputs": [],
   "source": [
    "def plot_fit_and_cost(initial_guess, n_iterations):\n",
    "\n",
    "    weights = np.copy(initial_guess)\n",
    "    classifications_model = activation_function(weights[0], weights[1], x_data, y_data)\n",
    "    for n in range(n_iterations):\n",
    "        weight_gradient = cost_function_gradient(x_data, y_data, classifications_data, classifications_model)\n",
    "        weights += learning_rate*weight_gradient\n",
    "        classifications_model = activation_function(weights[0], weights[1], x_data, y_data)\n",
    "    \n",
    "    fig = plt.figure(figsize=(11,5))\n",
    "    \n",
    "    plt.subplot(1,2,1)\n",
    "    plt.plot(x_data[classifications_model==1],y_data[classifications_model==1],'b.',label='Class 1')\n",
    "    plt.plot(x_data[classifications_model==2],y_data[classifications_model==2],'g.',label='Class 2')\n",
    "    plot_x = np.linspace(min_x,max_x,100)\n",
    "    plt.plot(plot_x, weights[0] + weights[1]*plot_x, 'k-')\n",
    "    plt.gca().set_xlim([-1,12])\n",
    "    plt.gca().set_ylim([-1,9])\n",
    "    plt.title('Fit after '+str(n_iterations)+' iteration(s)')\n",
    "    plt.legend(loc=2)\n",
    "    plt.ylabel('y')\n",
    "    plt.xlabel('x')\n",
    "    \n",
    "    plt.subplot(1,2,2)\n",
    "    C = plt.pcolormesh(intercept_space,slope_space, Error)\n",
    "    plt.contour(intercept_space,slope_space, Error,colors='white',linewidths=0.7)\n",
    "    plt.plot(initial_guess[0], initial_guess[1], 'wo')\n",
    "    plt.plot(weights[0], weights[1], 'ko')\n",
    "    plt.text(initial_guess[0]+2, initial_guess[1], '$\\leftarrow$ Initial',color='white',va='center')\n",
    "    classifications_model = activation_function(weights[0], weights[1], x_data, y_data)\n",
    "    missclassified_points = int(cost_function(classifications_data, classifications_model))\n",
    "    if n_iterations>0:\n",
    "        plt.text(weights[0]+2, weights[1], '$\\leftarrow$ Final ('+str(missclassified_points)+')',color='white',va='center')\n",
    "    plt.colorbar(C, label='misclassified points')\n",
    "    plt.title('Error space')\n",
    "    plt.ylabel('slope ($m$)')\n",
    "    plt.xlabel('intercept ($b$)')\n",
    "    plt.show()\n"
   ]
  },
  {
   "cell_type": "code",
   "execution_count": null,
   "id": "e3ca3852-1da7-442a-a0bf-5e83be5b6b4f",
   "metadata": {},
   "outputs": [],
   "source": [
    "interact(plot_fit_and_cost, initial_guess=fixed(np.array([intercept, slope])),\n",
    "         n_iterations=widgets.IntSlider(min=0, max=500));"
   ]
  },
  {
   "cell_type": "markdown",
   "id": "9c00ac89-a4a6-4491-937d-15639156caef",
   "metadata": {},
   "source": [
    "Here, we have \"trained\" a model based on available data."
   ]
  }
 ],
 "metadata": {
  "kernelspec": {
   "display_name": "Python [conda env:ms263-24] *",
   "language": "python",
   "name": "conda-env-ms263-24-py"
  },
  "language_info": {
   "codemirror_mode": {
    "name": "ipython",
    "version": 3
   },
   "file_extension": ".py",
   "mimetype": "text/x-python",
   "name": "python",
   "nbconvert_exporter": "python",
   "pygments_lexer": "ipython3",
   "version": "3.10.13"
  }
 },
 "nbformat": 4,
 "nbformat_minor": 5
}
